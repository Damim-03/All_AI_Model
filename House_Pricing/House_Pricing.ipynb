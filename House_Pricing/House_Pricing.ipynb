{
 "cells": [
  {
   "metadata": {},
   "cell_type": "code",
   "outputs": [],
   "execution_count": null,
   "source": [
    "import pandas as pd\n",
    "import numpy as np\n",
    "import matplotlib.pyplot as plt\n",
    "import seaborn as sns\n",
    "from sklearn.model_selection import train_test_split\n",
    "from sklearn.preprocessing import StandardScaler, OneHotEncoder\n",
    "from sklearn.compose import ColumnTransformer\n",
    "from sklearn.pipeline import Pipeline\n",
    "from sklearn.metrics import mean_squared_error, r2_score\n",
    "import xgboost as xgb\n",
    "\n",
    "sns.set_style(\"whitegrid\")\n",
    "plt.rcParams['figure.figsize'] = (12,6)\n",
    "plt.rcParams['axes.titlesize'] = 16\n",
    "plt.rcParams['axes.labelsize'] = 14"
   ],
   "id": "fbc121e30a2defb3"
  },
  {
   "metadata": {},
   "cell_type": "code",
   "outputs": [],
   "execution_count": null,
   "source": [
    "df = pd.read_csv(\"/kaggle/input/housedata/data.csv\")\n",
    "\n",
    "df['year_sold'] = pd.to_datetime(df['date']).dt.year"
   ],
   "id": "c3615209afa4e75a"
  },
  {
   "metadata": {},
   "cell_type": "code",
   "outputs": [],
   "execution_count": null,
   "source": [
    "df['house_age'] = df['year_sold'] - df['yr_built']\n",
    "df['total_area'] = df['sqft_living'] + df['sqft_basement']\n",
    "df['bathrooms_per_bedroom'] = df['bathrooms'] / (df['bedrooms'] + 0.1)\n",
    "df['renovated'] = df['yr_renovated'].apply(lambda x: 0 if x==0 else 1)\n",
    "df['price_per_sqft'] = df['price'] / (df['total_area'] + 1)\n",
    "\n",
    "df.drop(columns=['date', 'yr_renovated'], inplace=True)"
   ],
   "id": "a23757afc4b21fc4"
  },
  {
   "metadata": {},
   "cell_type": "code",
   "outputs": [],
   "execution_count": null,
   "source": [
    "df = df[df['price'] > 50000]\n",
    "df = df[df['sqft_living'] > 200]\n",
    "df = df[df['bedrooms'] > 0]\n",
    "df = df[df['bathrooms'] > 0]\n",
    "\n",
    "for col in ['price', 'sqft_living', 'sqft_lot', 'total_area', 'price_per_sqft']:\n",
    "    upper = df[col].quantile(0.995)\n",
    "    df = df[df[col] < upper]"
   ],
   "id": "626b69acb4917733"
  },
  {
   "metadata": {},
   "cell_type": "code",
   "outputs": [],
   "execution_count": null,
   "source": [
    "plt.figure(figsize=(12,6))\n",
    "sns.histplot(df['price'], bins=50, kde=True, color='green')\n",
    "plt.title(\"📉 Distribution of House Prices\")\n",
    "plt.xlabel(\"Price\")\n",
    "plt.ylabel(\"Count\")\n",
    "plt.show()\n",
    "\n",
    "\n",
    "plt.figure(figsize=(12,6))\n",
    "sns.scatterplot(x='sqft_living', y='price', data=df, alpha=0.5, color='blue')\n",
    "plt.title(\"📈 Price vs Living Area\")\n",
    "plt.xlabel(\"Living Area (sqft)\")\n",
    "plt.ylabel(\"Price\")\n",
    "plt.show()\n",
    "\n",
    "\n",
    "numeric_cols = df.select_dtypes(include=np.number)\n",
    "plt.figure(figsize=(14,12))\n",
    "sns.heatmap(numeric_cols.corr(), annot=True, fmt=\".2f\", cmap=\"coolwarm\", linewidths=0.5)\n",
    "plt.title(\"📊 Correlation Heatmap (Numeric Features Only)\")\n",
    "plt.show()\n",
    "\n",
    "\n",
    "features_to_plot = ['house_age', 'total_area', 'bathrooms_per_bedroom', 'renovated', 'price_per_sqft']\n",
    "plt.figure(figsize=(16,10))\n",
    "for i, feature in enumerate(features_to_plot, 1):\n",
    "    plt.subplot(3, 2, i)\n",
    "    sns.scatterplot(x=feature, y='price', data=df, alpha=0.5, color='purple')\n",
    "    plt.title(f\"📊 Price vs {feature}\")\n",
    "plt.tight_layout()\n",
    "plt.show()"
   ],
   "id": "64bdbae6b76be8dd"
  },
  {
   "metadata": {},
   "cell_type": "code",
   "outputs": [],
   "execution_count": null,
   "source": [
    "y = df['price']\n",
    "X = df.drop(columns=['price'])\n",
    "\n",
    "categorical_features = ['street', 'city', 'statezip', 'country']\n",
    "numerical_features = [col for col in X.columns if col not in categorical_features]\n",
    "\n",
    "X_train, X_test, y_train, y_test = train_test_split(\n",
    "    X, y, test_size=0.2, random_state=42\n",
    ")\n",
    "\n",
    "preprocessor = ColumnTransformer(\n",
    "    transformers=[\n",
    "        ('num', StandardScaler(), numerical_features),\n",
    "        ('cat', OneHotEncoder(handle_unknown='ignore'), categorical_features)\n",
    "    ]\n",
    ")"
   ],
   "id": "8eb42f3a37a91730"
  },
  {
   "metadata": {},
   "cell_type": "code",
   "outputs": [],
   "execution_count": null,
   "source": [
    "model = Pipeline(steps=[\n",
    "    ('preprocessor', preprocessor),\n",
    "    ('regressor', xgb.XGBRegressor(\n",
    "        n_estimators=700,\n",
    "        max_depth=12,\n",
    "        learning_rate=0.1,\n",
    "        subsample=0.8,\n",
    "        colsample_bytree=0.8,\n",
    "        random_state=42,\n",
    "        n_jobs=-1\n",
    "    ))\n",
    "])"
   ],
   "id": "79324bd48943b9c5"
  },
  {
   "metadata": {},
   "cell_type": "code",
   "outputs": [],
   "execution_count": null,
   "source": [
    "model.fit(X_train, y_train)\n",
    "y_pred = model.predict(X_test)"
   ],
   "id": "66a455a583b4709"
  },
  {
   "metadata": {},
   "cell_type": "code",
   "outputs": [],
   "execution_count": null,
   "source": [
    "mse = mean_squared_error(y_test, y_pred)\n",
    "rmse = np.sqrt(mse)\n",
    "r2 = r2_score(y_test, y_pred)\n",
    "\n",
    "print(f\"🏁 أداء النموذج بعد تنظيف أعمق:\")\n",
    "print(f\"RMSE: {rmse:,.2f}\")\n",
    "print(f\"R² Score: {r2:.2f}\")"
   ],
   "id": "29d0ef782a0e75fe"
  },
  {
   "metadata": {},
   "cell_type": "code",
   "outputs": [],
   "execution_count": null,
   "source": [
    "plt.figure(figsize=(12,6))\n",
    "sns.scatterplot(x=y_test, y=y_pred, alpha=0.6, color='darkblue')\n",
    "plt.plot([y_test.min(), y_test.max()], [y_test.min(), y_test.max()], 'r--', lw=3)\n",
    "plt.xlabel(\"Actual Prices\")\n",
    "plt.ylabel(\"Predicted Prices\")\n",
    "plt.title(\"📊 Actual vs Predicted Prices\")\n",
    "plt.show()"
   ],
   "id": "a262c86bac51ba0b"
  },
  {
   "metadata": {},
   "cell_type": "code",
   "outputs": [],
   "execution_count": null,
   "source": [
    "errors = y_test - y_pred\n",
    "plt.figure(figsize=(12,6))\n",
    "sns.histplot(errors, bins=50, kde=True, color='red')\n",
    "plt.title(\"📉 Distribution of Prediction Errors\")\n",
    "plt.xlabel(\"Prediction Error\")\n",
    "plt.show()"
   ],
   "id": "9cfeb13343dd3352"
  },
  {
   "metadata": {},
   "cell_type": "code",
   "outputs": [],
   "execution_count": null,
   "source": [
    "regressor = model.named_steps['regressor']\n",
    "importances = regressor.feature_importances_\n",
    "\n",
    "# أسماء الأعمدة بعد التحويل\n",
    "num_features_scaled = preprocessor.named_transformers_['num'].get_feature_names_out(numerical_features)\n",
    "cat_features_encoded = model.named_steps['preprocessor'].transformers_[1][1].get_feature_names_out(categorical_features)\n",
    "all_features = np.concatenate([num_features_scaled, cat_features_encoded])\n",
    "\n",
    "fi_df = pd.DataFrame({'Feature': all_features, 'Importance': importances})\n",
    "fi_df = fi_df.sort_values(by='Importance', ascending=False).head(20)\n",
    "\n",
    "plt.figure(figsize=(12,8))\n",
    "sns.barplot(x='Importance', y='Feature', data=fi_df, palette=\"magma\")\n",
    "plt.title(\"🔥 Top 20 Feature Importances\")\n",
    "plt.show()"
   ],
   "id": "bef984680df9c45"
  }
 ],
 "metadata": {
  "kernelspec": {
   "display_name": "Python 3",
   "language": "python",
   "name": "python3"
  },
  "language_info": {
   "codemirror_mode": {
    "name": "ipython",
    "version": 2
   },
   "file_extension": ".py",
   "mimetype": "text/x-python",
   "name": "python",
   "nbconvert_exporter": "python",
   "pygments_lexer": "ipython2",
   "version": "2.7.6"
  }
 },
 "nbformat": 4,
 "nbformat_minor": 5
}
